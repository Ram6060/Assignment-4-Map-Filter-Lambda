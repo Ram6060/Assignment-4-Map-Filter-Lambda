{
 "cells": [
  {
   "cell_type": "markdown",
   "id": "81973f5c",
   "metadata": {},
   "source": [
    "# Write a Python program to create a lambda function that adds 25 to a given number passed in as an argument.\n"
   ]
  },
  {
   "cell_type": "code",
   "execution_count": 1,
   "id": "28bb7a6b",
   "metadata": {},
   "outputs": [
    {
     "name": "stdout",
     "output_type": "stream",
     "text": [
      "Enter  a number :10\n",
      "35\n"
     ]
    }
   ],
   "source": [
    "x= int(input(\"Enter  a number :\"))\n",
    "add = lambda x:x+25\n",
    "print(add(10))"
   ]
  },
  {
   "cell_type": "code",
   "execution_count": null,
   "id": "7e894861",
   "metadata": {},
   "outputs": [],
   "source": []
  }
 ],
 "metadata": {
  "kernelspec": {
   "display_name": "Python 3 (ipykernel)",
   "language": "python",
   "name": "python3"
  },
  "language_info": {
   "codemirror_mode": {
    "name": "ipython",
    "version": 3
   },
   "file_extension": ".py",
   "mimetype": "text/x-python",
   "name": "python",
   "nbconvert_exporter": "python",
   "pygments_lexer": "ipython3",
   "version": "3.11.1"
  }
 },
 "nbformat": 4,
 "nbformat_minor": 5
}
